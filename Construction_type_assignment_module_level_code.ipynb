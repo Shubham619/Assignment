{
 "cells": [
  {
   "cell_type": "code",
   "execution_count": 37,
   "metadata": {},
   "outputs": [],
   "source": [
    "import sys; sys.path.insert(0,'C:/Users/shubh/Documents/Personal_work_stuff/program_files/')"
   ]
  },
  {
   "cell_type": "code",
   "execution_count": 282,
   "metadata": {},
   "outputs": [],
   "source": [
    "from modules.requirements import *\n"
   ]
  },
  {
   "cell_type": "code",
   "execution_count": 291,
   "metadata": {},
   "outputs": [],
   "source": [
    "class Construction_type_pred:\n",
    "    def __init__(self,data_path,\n",
    "                random_state,train_size,condition_,\n",
    "                 char_sublinear_tf,char_strip_accents,char_analyzer,char_max_features,char_n_gram,\n",
    "                 word_sublinear_tf,word_strip_accents,word_analyzer,word_max_features,word_n_gram,\n",
    "                 regularization,reset_class1,reset_class2,reset_class3,reset_class4,reset_class5,reset_class6):\n",
    "  \n",
    "        ##Importing files\n",
    "        self.data_path = data_path\n",
    "        self.random_state = random_state\n",
    "        self.condition_ = condition_\n",
    "        self.train_size  = train_size\n",
    "        #Vectorizer and model parameters\n",
    "        \n",
    "        self.char_sublinear_tf = char_sublinear_tf\n",
    "        self.char_strip_accents = char_strip_accents\n",
    "        self.char_analyzer=char_analyzer\n",
    "        self.char_max_features = char_max_features\n",
    "        self.char_n_gram=char_n_gram\n",
    "        self.word_sublinear_tf = word_sublinear_tf\n",
    "        self.word_strip_accents = word_strip_accents\n",
    "        self.word_analyzer = word_analyzer\n",
    "        self.word_max_features = word_max_features\n",
    "        self.word_n_gram = word_n_gram\n",
    "        self.regularization = regularization\n",
    "        \n",
    "        ###classwise threshold\n",
    "        self.reset_class1=reset_class1\n",
    "        self.reset_class2=reset_class2\n",
    "        self.reset_class3=reset_class3\n",
    "        self.reset_class4=reset_class4\n",
    "        self.reset_class5=reset_class5\n",
    "        self.reset_class6=reset_class6\n",
    "        \n",
    "  \n",
    "    \n",
    "    def import_files(self):\n",
    "        \"\"\"Importing required dataframe\"\"\"\n",
    "        global data\n",
    "        data=pd.read_csv(str(self.data_path),low_memory=self.condition_)\n",
    "        print(\"****Importing completed\")\n",
    "        return data\n",
    "        \n",
    "    def Aggregation_manipulation(self,data):\n",
    "        \"\"\"Manipulating dataframe\"\"\"\n",
    "        data=pd.read_csv('C:\\\\Users\\\\shubh\\\\Documents\\\\Personal_work_stuff\\\\data_files\\\\CC_usecase1.csv')\n",
    "        data.columns=['Construction_description','Construction_code']\n",
    "        data=data[data['Construction_code']!='Unknown']\n",
    "        data.Construction_code=data.Construction_code.astype('str')\n",
    "        data.Construction_code=data.Construction_code.convert_dtypes('categorical')\n",
    "        data=data.reset_index()\n",
    "        data=data.iloc[:,1:]\n",
    "        \n",
    "        print('****Aggregation and Manipulation Completed****')\n",
    "        return data\n",
    "    \n",
    "    def Data_cleaning(self,data):\n",
    "        \"\"\"Cleaning string\"\"\"\n",
    "        def cleaning(string):    \n",
    "            string = str(string)\n",
    "            string = string.lower()\n",
    "            string = re.sub('\\s\\W',' ',string)\n",
    "            string = re.sub('\\W,\\s',' ',string)\n",
    "            string = re.sub(r'[^\\w]', ' ', string)\n",
    "            string = re.sub(\"\\d+\", \"\", string)\n",
    "            string = re.sub('\\s+',' ',string)\n",
    "            string = re.sub('[!@#$_]', '', string)\n",
    "            string = string.replace(\",\",\"\")\n",
    "            string = string.replace(\"[\\w*\",\" \")\n",
    "            string = re.sub(r'https?:\\/\\/.*[\\r\\n]*', '', string, flags=re.MULTILINE)\n",
    "            string = re.sub(r'\\<a href', ' ', string)\n",
    "            string = re.sub(r'&amp;', '', string) \n",
    "            string = re.sub(r'[_\"\\-;%()|+&=*%.,!?:#$@\\[\\]/]', ' ', string)\n",
    "            string = re.sub(r'[^\\x00-\\x7f]',r'',string) #removes arabic\n",
    "            string = re.sub(r'<br />', ' ', string)\n",
    "            string = re.sub(r'\\'', ' ', string)\n",
    "            string = string.lower()\n",
    "            stop_words = set(stopwords.words('english'))  \n",
    "            word_tokens = word_tokenize(string)  \n",
    "            string = [w for w in word_tokens if not w in stop_words]\n",
    "            \n",
    "            string = ' '.join(i for i in string)\n",
    "            string = re.findall('[a-z]{1,}',string)\n",
    "            string = ' '.join(i for i in string)\n",
    "            string = string.strip()\n",
    "            return string\n",
    "        print('****Cleaning Completed****')\n",
    "        data.Construction_description = [cleaning(string) for string in data['Construction_description']]\n",
    "        \n",
    "        return data\n",
    "\n",
    "    def Data_subset(self,dfa):\n",
    "        \"\"\"Splitting dataframe with stratifying sampling\"\"\"\n",
    "        X_train_tfidf, X_test_tfidf, y_train_tfidf, y_test_tfidf = train_test_split(data.Construction_description,\n",
    "                                                    data.Construction_code, train_size=self.train_size,random_state=0, \n",
    "                                                     stratify=data.Construction_code)\n",
    "        return X_train_tfidf,X_test_tfidf,y_train_tfidf,y_test_tfidf\n",
    "\n",
    "        \n",
    "    def FeatureEngineering_model_evaluation(self,X_train_tfidf,X_test_tfidf,y_train_tfidf,y_test_tfidf):\n",
    "        \"\"\"Feature engineering and model evaluation\"\"\"\n",
    "        word_vectorizer = TfidfVectorizer(\n",
    "            sublinear_tf=self.word_sublinear_tf,strip_accents=self.word_strip_accents,\n",
    "            analyzer=self.word_analyzer,\n",
    "            token_pattern=r'\\w{1,}',\n",
    "            ngram_range=self.word_n_gram,dtype=np.int32,\n",
    "            max_features=self.word_max_features)\n",
    "        char_vectorizer = TfidfVectorizer(\n",
    "            sublinear_tf=self.char_sublinear_tf,strip_accents=self.char_strip_accents,\n",
    "            analyzer=self.char_analyzer,\n",
    "            ngram_range=self.char_n_gram,dtype=np.int32,\n",
    "            max_features=self.char_max_features)\n",
    "        \n",
    "        tfidf = FeatureUnion([('char', char_vectorizer), ('word', word_vectorizer)])\n",
    "\n",
    "        def class_weight(labels_dict,mu=0.15):\n",
    "            total = sum(labels_dict.values())\n",
    "            keys = labels_dict.keys()\n",
    "            weight = dict()\n",
    "            for i in keys:\n",
    "                    score = np.log((mu)*(total)/float(labels_dict[i]))\n",
    "                    weight[i] = score if score > 1 else 1\n",
    "            return weight\n",
    "\n",
    "        data['Construction_code']=data['Construction_code'].convert_dtypes('object')\n",
    "        labels_dict = data['Construction_code'].value_counts().to_dict()\n",
    "        weights = class_weight(labels_dict)\n",
    "        # class_weight = class_weight.compute_class_weight('balanced',np.unique(data.Construction_code),data.Construction_code)\n",
    "        # class_weight=dict(enumerate(class_weight.flatten(), 1)) \n",
    "        weights={'4': 1, '2': 1, '3': 1, '1': 1, '6': 1.1032320, '5': 1.1423795768519434}\n",
    "        pipeline = Pipeline([('tfidf', tfidf), ('clf', LinearSVC(class_weight=weights))])\n",
    "        \n",
    "        \n",
    "        pipeline.fit(X_train_tfidf,y_train_tfidf)\n",
    "        tf_params = {\n",
    "         'tfidf__word__max_features':[self.word_max_features],\n",
    "         'tfidf__word__ngram_range': [self.word_n_gram],\n",
    "         'tfidf__word__stop_words': [None, 'english'],\n",
    "         'tfidf__char__max_features':[self.char_max_features],\n",
    "         'tfidf__char__ngram_range': [self.char_n_gram],\n",
    "         'tfidf__char__stop_words': [None, 'english'],\n",
    "         'clf__C': [self.regularization]\n",
    "\n",
    "        }\n",
    "\n",
    "\n",
    "        clf = GridSearchCV(pipeline, param_grid=tf_params, cv = 15, verbose = 1, n_jobs = -1)\n",
    "        clf.fit(X_train_tfidf, y_train_tfidf)\n",
    "\n",
    "\n",
    "        y_true, y_pred = y_test_tfidf, clf.predict(X_test_tfidf)\n",
    "        print('****Feature Engineering_model_evaluation Completed****')\n",
    "        return data,y_pred,y_true,X_test_tfidf,clf\n",
    "     \n",
    "    def model_tuning(self,data,y_pred,y_true,X_test_tfidf,clf):\n",
    "        \"\"\"Model tuning and implementing nhi class for imbalance data\"\"\"\n",
    "        \n",
    "        def implement_confidence_score(dfa,ypred,y_test,X_test,model):\n",
    "            dfa=dfa.loc[y_test.index.tolist(),]\n",
    "            dfa['pred']=ypred.tolist()\n",
    "            conf=[]\n",
    "            for arr in model.decision_function(X_test):\n",
    "                conf.append(np.max(arr))\n",
    "            dfa['conf']=conf\n",
    "            return dfa\n",
    "        \n",
    "        test_dfa=implement_confidence_score(data,y_pred,y_true,X_test_tfidf,clf)\n",
    "\n",
    "        classes=['1','2','3','4','5','6']\n",
    "        class_conf_range={}\n",
    "        for i in classes:\n",
    "            class_conf_range[i]=(test_dfa[test_dfa['Construction_code']==i]['conf'])\n",
    "\n",
    "        class_conf_range_val={}\n",
    "        for i,j in class_conf_range.items():\n",
    "            print(\"Min thresold of \",i,round(np.min(class_conf_range[i]),4),\" and Max thresold of \",i,round(np.max(class_conf_range[i]),4))\n",
    "            class_conf_range_val[i]=round(np.min(class_conf_range[i]),4)\n",
    "        def evaluate_nhi(df_test,classes_threshold):\n",
    "            val_test=df_test\n",
    "\n",
    "            def split_dfs(df,class_name):\n",
    "                return df_test[df_test[\"Construction_code\"]==class_name]\n",
    "\n",
    "\n",
    "\n",
    "\n",
    "            df_test_1=split_dfs(df_test,\"1\")\n",
    "            df_test_2=split_dfs(df_test,\"2\")\n",
    "            df_test_3=split_dfs(df_test,\"3\")\n",
    "            df_test_4=split_dfs(df_test,\"4\")\n",
    "            df_test_5=split_dfs(df_test,\"5\")\n",
    "            df_test_6=split_dfs(df_test,\"6\")\n",
    "\n",
    "\n",
    "            def subset_acc_conf(df,threshold):\n",
    "                return df[df['conf']>=threshold]\n",
    "\n",
    "            one=classes_threshold[0]\n",
    "            second=classes_threshold[1]\n",
    "            third=classes_threshold[2]\n",
    "            fourth=classes_threshold[3]\n",
    "            fivth=classes_threshold[4]\n",
    "            sixth=classes_threshold[5]\n",
    "\n",
    "            df_test_filtered_0=subset_acc_conf(df_test_1,one)\n",
    "            df_test_filtered_1=subset_acc_conf(df_test_2,second)\n",
    "            df_test_filtered_2=subset_acc_conf(df_test_3,third)\n",
    "            df_test_filtered_3=subset_acc_conf(df_test_4,fourth)\n",
    "            df_test_filtered_4=subset_acc_conf(df_test_5,fivth)\n",
    "            df_test_filtered_5=subset_acc_conf(df_test_6,sixth)\n",
    "\n",
    "            df_test_filtered=pd.concat([df_test_filtered_0,df_test_filtered_1,df_test_filtered_2,df_test_filtered_3,df_test_filtered_4,df_test_filtered_5])\n",
    "\n",
    "            print(\"NHI P\",math.floor((val_test.shape[0]-df_test_filtered.shape[0])*100/val_test.shape[0]))\n",
    "            cls=clf.classes_\n",
    "\n",
    "\n",
    "            conf_mat = confusion_matrix(df_test_filtered['Construction_code'],  df_test_filtered['pred'])\n",
    "            fig, ax = plt.subplots(figsize=(10,10))\n",
    "            sns.heatmap(conf_mat, annot=True, fmt='d',xticklabels=cls, yticklabels=cls)\n",
    "            plt.ylabel('Actual')\n",
    "            plt.xlabel('Predicted')\n",
    "            plt.show()\n",
    "            print(metrics.classification_report(df_test_filtered['Construction_code'], df_test_filtered['pred']))\n",
    "            \n",
    "        \n",
    "        zero_threshold=[class_conf_range_val['1']+self.reset_class1,class_conf_range_val['2']+self.reset_class2,\n",
    "                        class_conf_range_val['3']+self.reset_class3,class_conf_range_val['4']+self.reset_class4,\n",
    "                        class_conf_range_val['5']+self.reset_class5,class_conf_range_val['6']+self.reset_class6]\n",
    "        evaluate_nhi(test_dfa,zero_threshold)\n",
    "        print('****Model Tuning Completed****')\n",
    "        \n",
    "\n"
   ]
  },
  {
   "cell_type": "markdown",
   "metadata": {},
   "source": [
    "### Initializing the Construction type prediction class"
   ]
  },
  {
   "cell_type": "code",
   "execution_count": 284,
   "metadata": {},
   "outputs": [],
   "source": [
    "class_p=Construction_type_pred('C:\\\\Users\\\\shubh\\\\Documents\\\\Personal_work_stuff\\\\data_files\\\\CC_usecase1.csv',\n",
    "              45,0.70,True, #data param\n",
    "              True,'unicode','char_wb',500,(1,3), #character level tfidf param\n",
    "              True,'unicode','word',900,(1,4), #word level tfidf param\n",
    "              1,###svc param\n",
    "            0.8459,0.09,0,0,0.001,0) # class-wise threshold param"
   ]
  },
  {
   "cell_type": "markdown",
   "metadata": {},
   "source": [
    "### Importing files "
   ]
  },
  {
   "cell_type": "code",
   "execution_count": 285,
   "metadata": {},
   "outputs": [
    {
     "name": "stdout",
     "output_type": "stream",
     "text": [
      "****Importing completed\n"
     ]
    }
   ],
   "source": [
    "data=class_p.import_files()"
   ]
  },
  {
   "cell_type": "markdown",
   "metadata": {},
   "source": [
    "### Data aggregation and manipulation "
   ]
  },
  {
   "cell_type": "code",
   "execution_count": 286,
   "metadata": {},
   "outputs": [
    {
     "name": "stdout",
     "output_type": "stream",
     "text": [
      "****Aggregation and Manipulation Completed****\n"
     ]
    }
   ],
   "source": [
    "data=class_p.Aggregation_manipulation(data)"
   ]
  },
  {
   "cell_type": "markdown",
   "metadata": {},
   "source": [
    "### Cleaning text "
   ]
  },
  {
   "cell_type": "code",
   "execution_count": 287,
   "metadata": {},
   "outputs": [
    {
     "name": "stdout",
     "output_type": "stream",
     "text": [
      "****Cleaning Completed****\n"
     ]
    }
   ],
   "source": [
    "data=class_p.Data_cleaning(data)"
   ]
  },
  {
   "cell_type": "markdown",
   "metadata": {},
   "source": [
    "### Splitting data (stratify)"
   ]
  },
  {
   "cell_type": "code",
   "execution_count": 292,
   "metadata": {},
   "outputs": [],
   "source": [
    "X_train_tfidf,X_test_tfidf,y_train_tfidf,y_test_tfidf=class_p.Data_subset(data)"
   ]
  },
  {
   "cell_type": "markdown",
   "metadata": {},
   "source": [
    "###  Feature engineering model and evaluation (imbalance handling)"
   ]
  },
  {
   "cell_type": "code",
   "execution_count": 289,
   "metadata": {},
   "outputs": [
    {
     "name": "stdout",
     "output_type": "stream",
     "text": [
      "Fitting 15 folds for each of 4 candidates, totalling 60 fits\n"
     ]
    },
    {
     "name": "stderr",
     "output_type": "stream",
     "text": [
      "[Parallel(n_jobs=-1)]: Using backend LokyBackend with 8 concurrent workers.\n"
     ]
    },
    {
     "name": "stdout",
     "output_type": "stream",
     "text": [
      "****Feature Engineering_model_evaluation Completed****\n"
     ]
    },
    {
     "name": "stderr",
     "output_type": "stream",
     "text": [
      "[Parallel(n_jobs=-1)]: Done  60 out of  60 | elapsed:    1.3s finished\n"
     ]
    }
   ],
   "source": [
    "\n",
    "data,y_pred,y_true,X_test_tfidf,clf=class_p.FeatureEngineering_model_evaluation(X_train_tfidf,X_test_tfidf,y_train_tfidf,y_test_tfidf)"
   ]
  },
  {
   "cell_type": "markdown",
   "metadata": {},
   "source": [
    "### Modeling tuning and NHI "
   ]
  },
  {
   "cell_type": "code",
   "execution_count": 290,
   "metadata": {},
   "outputs": [
    {
     "name": "stdout",
     "output_type": "stream",
     "text": [
      "Min thresold of  1 -0.6041  and Max thresold of  1 1.7727\n",
      "Min thresold of  2 -0.4684  and Max thresold of  2 2.0018\n",
      "Min thresold of  3 -0.3076  and Max thresold of  3 1.2043\n",
      "Min thresold of  4 -0.3738  and Max thresold of  4 2.231\n",
      "Min thresold of  5 -0.2703  and Max thresold of  5 1.5066\n",
      "Min thresold of  6 -0.2497  and Max thresold of  6 1.6585\n",
      "NHI P 4\n"
     ]
    },
    {
     "data": {
      "image/png": "[encoded data removed]",
      "text/plain": [
       "<Figure size 720x720 with 2 Axes>"
      ]
     },
     "metadata": {
      "needs_background": "light"
     },
     "output_type": "display_data"
    },
    {
     "name": "stdout",
     "output_type": "stream",
     "text": [
      "              precision    recall  f1-score   support\n",
      "\n",
      "           1       0.67      0.82      0.74        34\n",
      "           2       0.89      0.72      0.79        81\n",
      "           3       0.68      0.80      0.73        59\n",
      "           4       0.88      0.88      0.88       207\n",
      "           5       0.74      0.74      0.74        19\n",
      "           6       0.96      0.86      0.91        29\n",
      "\n",
      "    accuracy                           0.83       429\n",
      "   macro avg       0.80      0.80      0.80       429\n",
      "weighted avg       0.84      0.83      0.83       429\n",
      "\n",
      "****Model Tuning Completed****\n"
     ]
    }
   ],
   "source": [
    "class_p.model_tuning(data,y_pred,y_true,X_test_tfidf,clf)"
   ]
  }
 ],
 "metadata": {
  "kernelspec": {
   "display_name": "Python 3",
   "language": "python",
   "name": "python3"
  },
  "language_info": {
   "codemirror_mode": {
    "name": "ipython",
    "version": 3
   },
   "file_extension": ".py",
   "mimetype": "text/x-python",
   "name": "python",
   "nbconvert_exporter": "python",
   "pygments_lexer": "ipython3",
   "version": "3.8.5"
  }
 },
 "nbformat": 4,
 "nbformat_minor": 4
}
