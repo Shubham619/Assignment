{
 "cells": [
  {
   "cell_type": "code",
   "execution_count": 167,
   "metadata": {},
   "outputs": [],
   "source": [
    "from modules.requirements import *"
   ]
  },
  {
   "cell_type": "code",
   "execution_count": 187,
   "metadata": {},
   "outputs": [],
   "source": [
    "class Construction_type_pred:\n",
    "    def __init__(self, reset_class1, reset_class2, reset_class3, reset_class4, reset_class5, reset_class6):\n",
    "        # classwise threshold\n",
    "        self.__reset_class1 = reset_class1\n",
    "        self.__reset_class2 = reset_class2\n",
    "        self.__reset_class3 = reset_class3\n",
    "        self.__reset_class4 = reset_class4\n",
    "        self.__reset_class5 = reset_class5\n",
    "        self.__reset_class6 = reset_class6\n",
    "\n",
    "    def load_model(self, model_name, path):\n",
    "        parent_path = 'C:\\\\Users\\\\shubh\\\\Documents\\\\Personal_work_stuff\\\\'\n",
    "        os.chdir(parent_path+path)\n",
    "        loaded_model = pickle.load(open(model_name, 'rb'))\n",
    "        return loaded_model\n",
    "\n",
    "    def cleaning(self, input_string):\n",
    "        string = input_string\n",
    "        string = str(string)\n",
    "        string = string.lower()\n",
    "        string = re.sub('\\s\\W', ' ', string)\n",
    "        string = re.sub('\\W,\\s', ' ', string)\n",
    "        string = re.sub(r'[^\\w]', ' ', string)\n",
    "        string = re.sub(\"\\d+\", \"\", string)\n",
    "        string = re.sub('\\s+', ' ', string)\n",
    "        string = re.sub('[!@#$_]', '', string)\n",
    "        string = string.replace(\",\", \"\")\n",
    "        string = string.replace(\"[\\w*\", \" \")\n",
    "        string = re.sub(r'https?:\\/\\/.*[\\r\\n]*', '', string, flags=re.MULTILINE)\n",
    "        string = re.sub(r'\\<a href', ' ', string)\n",
    "        string = re.sub(r'&amp;', '', string)\n",
    "        string = re.sub(r'[_\"\\-;%()|+&=*%.,!?:#$@\\[\\]/]', ' ', string)\n",
    "        string = re.sub(r'[^\\x00-\\x7f]', r'', string)\n",
    "        string = re.sub(r'<br />', ' ', string)\n",
    "        string = re.sub(r'\\'', ' ', string)\n",
    "        string = string.lower()\n",
    "        stop_words = set(stopwords.words('english'))\n",
    "        word_tokens = word_tokenize(string)\n",
    "        string = [w for w in word_tokens if w not in stop_words]\n",
    "\n",
    "        string = ' '.join(i for i in string)\n",
    "        string = re.findall('[a-z]{1,}', string)\n",
    "        string = ' '.join(i for i in string)\n",
    "        string = string.strip()\n",
    "        return string\n",
    "    \n",
    "\n",
    "    def predict(self, model, string):\n",
    "        class_ = model.predict(string)\n",
    "        class_ = class_[0]\n",
    "        conf_ = model.decision_function(string)\n",
    "        conf_ = np.max(conf_)\n",
    "        if class_ == '1' and conf_ >= self.__reset_class1:\n",
    "            type_ = class_\n",
    "        elif class_ == '2' and conf_ >= self.__reset_class1:\n",
    "            type_ = class_\n",
    "        elif class_ == '3' and conf_ >= self.__reset_class1:\n",
    "            type_ = class_\n",
    "        elif class_ == '4' and conf_ >= self.__reset_class1:\n",
    "            type_ = class_\n",
    "        elif class_ == '5' and conf_ >= self.__reset_class1:\n",
    "            type_ = class_\n",
    "        elif class_ == '6' and conf_ >= self.__reset_class1:\n",
    "            type_ = class_\n",
    "        else:\n",
    "            type_ = 'NHI'\n",
    "        return type_\n",
    "      \n",
    "    def compute(input_string):\n",
    "        cl = Construction_type_pred(-0.6041+0.8459, -0.4684+0.09, -0.3076, -0.3738, -0.2703+0.001, -0.2497)\n",
    "        model = cl.load_model(\"Construction_type\", 'models')\n",
    "        input_string = cl.cleaning(input_string)\n",
    "        type_ = cl.predict(model, [input_string])\n",
    "        return type_\n",
    "\n",
    "        "
   ]
  },
  {
   "cell_type": "code",
   "execution_count": 188,
   "metadata": {},
   "outputs": [
    {
     "data": {
      "text/plain": [
       "'4'"
      ]
     },
     "execution_count": 188,
     "metadata": {},
     "output_type": "execute_result"
    }
   ],
   "source": [
    "Construction_type_pred.compute('brick steel')"
   ]
  },
  {
   "cell_type": "markdown",
   "metadata": {},
   "source": [
    "### Validating model on unseen data"
   ]
  },
  {
   "cell_type": "code",
   "execution_count": 189,
   "metadata": {},
   "outputs": [],
   "source": [
    "samples = {'masonry bearing interior steel columns':'4',\n",
    " 'metal':'3',\n",
    " 'jm apt':'2',\n",
    " 'mnc frame':'2',\n",
    " 'concrete tilt walls back brick front sides steel deck canopy':'4',\n",
    " 'concrete cbs':'4',\n",
    " 'brick veneer metal wood canopy':'2',\n",
    " 'tilt block faced wood framing stone faced':'2',\n",
    " 'brick veneer wood frame':'1',\n",
    " }"
   ]
  },
  {
   "cell_type": "code",
   "execution_count": 190,
   "metadata": {
    "scrolled": false
   },
   "outputs": [
    {
     "name": "stdout",
     "output_type": "stream",
     "text": [
      "\u001b[32mModel predicted 4 as masonry bearing interior steel columns and actual class type is 4\u001b[0m\n",
      "\u001b[32mModel predicted 3 as metal and actual class type is 3\u001b[0m\n",
      "\u001b[32mModel predicted 2 as jm apt and actual class type is 2\u001b[0m\n",
      "\u001b[34mModel predicted NHI as mnc frame and actual class type is 2\u001b[0m\n",
      "\u001b[32mModel predicted 4 as concrete tilt walls back brick front sides steel deck canopy and actual class type is 4\u001b[0m\n",
      "\u001b[32mModel predicted 4 as concrete cbs and actual class type is 4\u001b[0m\n",
      "\u001b[31mModel predicted 1 as brick veneer metal wood canopy and actual class type is 2\u001b[0m\n",
      "\u001b[32mModel predicted 2 as tilt block faced wood framing stone faced and actual class type is 2\u001b[0m\n",
      "\u001b[32mModel predicted 1 as brick veneer wood frame and actual class type is 1\u001b[0m\n"
     ]
    }
   ],
   "source": [
    "for i,j in samples.items():\n",
    "    if Construction_type_pred.compute(i) == j:\n",
    "        statement=('Model predicted %s as %s and actual class type is %s' % (Construction_type_pred.compute(i),i,j))\n",
    "        \n",
    "        print(colored(statement, 'green'))\n",
    "    elif Construction_type_pred.compute(i) == 'NHI':\n",
    "        statement=('Model predicted %s as %s and actual class type is %s' % (Construction_type_pred.compute(i),i,j))\n",
    "        \n",
    "        print(colored(statement, 'blue'))\n",
    "    else:\n",
    "        statement=('Model predicted %s as %s and actual class type is %s' % (Construction_type_pred.compute(i),i,j))\n",
    "        print(colored(statement, 'red'))"
   ]
  }
 ],
 "metadata": {
  "kernelspec": {
   "display_name": "Python 3",
   "language": "python",
   "name": "python3"
  },
  "language_info": {
   "codemirror_mode": {
    "name": "ipython",
    "version": 3
   },
   "file_extension": ".py",
   "mimetype": "text/x-python",
   "name": "python",
   "nbconvert_exporter": "python",
   "pygments_lexer": "ipython3",
   "version": "3.8.5"
  }
 },
 "nbformat": 4,
 "nbformat_minor": 4
}
